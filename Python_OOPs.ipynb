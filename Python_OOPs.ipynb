{
  "nbformat": 4,
  "nbformat_minor": 0,
  "metadata": {
    "colab": {
      "provenance": []
    },
    "kernelspec": {
      "name": "python3",
      "display_name": "Python 3"
    },
    "language_info": {
      "name": "python"
    }
  },
  "cells": [
    {
      "cell_type": "markdown",
      "source": [
        "**CONCEPTS**"
      ],
      "metadata": {
        "id": "0CgEH4nlxXMn"
      }
    },
    {
      "cell_type": "markdown",
      "source": [
        "# 1. What is Object-Oriented Programming (OOP)?\n",
        "\n",
        "-> Object-Oriented Programming (OOP) is a programming paradigm in Python (and many other languages) that organizes code around objects rather than actions or logic. An object is a collection of data (attributes) and functions (methods) that operate on that data. OOP is based on four main principles:\n",
        "\n",
        "1. Encapsulation:\n",
        "Bundles data and methods into a single unit (a class), hiding the internal state and requiring interaction through methods.\n",
        "\n",
        "2. Inheritance:\n",
        "Allows a class to inherit properties and methods from another class, promoting code reuse.\n",
        "\n",
        "3. Polymorphism:\n",
        "Lets different classes use methods with the same name, each behaving differently based on the object.\n",
        "\n",
        "4. Abstraction:\n",
        "Hides complex details and shows only the essential features to the user.\n",
        "\n",
        "OOP helps make programs modular, easier to maintain, scale, and debug."
      ],
      "metadata": {
        "id": "CG9dmBv8xbIs"
      }
    },
    {
      "cell_type": "markdown",
      "source": [
        "# 2. What is a class in OOP?\n",
        "\n",
        "-> In OOP, a class is like a blueprint for creating objects. It defines the attributes (variables) and methods (functions) that the objects created from it will have.\n",
        "\n",
        "Think of a class as a template — like a car design — and the actual cars built from that design are the objects (instances).\n",
        "\n",
        "Key Parts of a Class:\n",
        "\n",
        "class Person - defines the class.\n",
        "\n",
        "__init__()-  special method (constructor) that runs when a new object is created.\n",
        "\n",
        "self- refers to the current instance of the class.\n",
        "\n",
        "greet()- a method that belongs to the class.\n"
      ],
      "metadata": {
        "id": "RrSMUHmhyU9_"
      }
    },
    {
      "cell_type": "markdown",
      "source": [
        "# 3. What is an object in OOP?\n",
        "\n",
        "-> In Object-Oriented Programming (OOP), an object is a concrete instance of a class. While a class acts as a blueprint that defines the structure and behavior of something (like its attributes and methods), the object is the actual entity created from that blueprint.\n",
        "\n",
        "Each object has its own set of data and can perform actions defined by the class.\n",
        "\n",
        "For example, if you have a class called Car that defines properties like brand and color and methods like start(), then an object created from this class—like car1 = Car(\"Toyota\", \"Red\")—represents a specific car with its own brand and color.\n",
        "\n",
        "Objects make it possible to represent real-world entities in code, allowing for better organization, reusability, and scalability in programming."
      ],
      "metadata": {
        "id": "m8vNxsvGz1Of"
      }
    },
    {
      "cell_type": "code",
      "source": [
        "#Example\n",
        "class Car:\n",
        "    def __init__(self, brand, color):\n",
        "        self.brand = brand\n",
        "        self.color = color\n",
        "\n",
        "    def start(self):\n",
        "        return f\"{self.brand} car is starting!\"\n",
        "\n",
        "# Creating objects\n",
        "car1 = Car(\"Toyota\", \"Red\")\n",
        "car2 = Car(\"BMW\", \"Black\")\n",
        "\n",
        "print(car1.start())\n",
        "print(car2.color)\n"
      ],
      "metadata": {
        "colab": {
          "base_uri": "https://localhost:8080/"
        },
        "id": "sbp_DLA80tln",
        "outputId": "878aa2b1-2760-489e-b133-9071b22d0ebb"
      },
      "execution_count": null,
      "outputs": [
        {
          "output_type": "stream",
          "name": "stdout",
          "text": [
            "Toyota car is starting!\n",
            "Black\n"
          ]
        }
      ]
    },
    {
      "cell_type": "markdown",
      "source": [
        "# 4. What is the difference between abstraction and encapsulation+\n",
        "\n",
        "\n",
        "-> In Python, abstraction and encapsulation are two key principles of object-oriented programming that help in organizing and managing code effectively.\n",
        "\n",
        "Abstraction is the process of hiding complex internal details and showing only the necessary parts of an object. It allows the programmer to focus on what an object does, rather than how it does it.\n",
        "\n",
        "In Python, abstraction can be implemented using abstract classes and methods, often with the help of the abc module.\n",
        "\n",
        "For example, we might define an abstract class Shape with an abstract method area(), and then let different subclasses like Circle and Rectangle provide specific implementations.\n",
        "\n",
        " On the other hand, encapsulation is the technique of restricting access to certain parts of an object to protect its internal state.\n",
        "\n",
        " This is done by defining attributes as private (using a leading underscore or double underscore) and accessing them through getter and setter methods.\n",
        "\n",
        " Encapsulation helps in preventing unintended modifications and maintains the integrity of the data. Together, abstraction and encapsulation allow Python programs to be more modular, secure, and easier to maintain.\n",
        "\n",
        "Example for Abstraction: When we use a smartphone, we just tap to make a call — we don't need to know how the internal circuits or code works.\n",
        "\n",
        "Example for Encapsulation: You keep your money in a wallet — people can't access it unless you allow them to. Similarly, in code, we use private variables and getter/setter methods to protect internal data."
      ],
      "metadata": {
        "id": "933D-rfK16PD"
      }
    },
    {
      "cell_type": "markdown",
      "source": [
        "# 5. What are dunder methods in Python?\n",
        "\n",
        "-> In Python, dunder methods (short for “double underscore”) are special methods that start and end with double underscores, such as __int__, __str__, and __len__.\n",
        "\n",
        "These are also known as magic methods and are used to define or customize the behavior of Python objects in specific situations.\n",
        "\n",
        "For instance, the __init__ method is automatically called when a new object is created and is used to initialize object attributes.\n",
        "\n",
        "The __str__ method determines how the object is represented as a string, especially when printed.\n",
        "\n",
        "Other dunder methods like __add__ and __eq__ allow you to define custom behavior for operators like + and ==, respectively.\n",
        "\n",
        "These methods enable objects to behave like built-in types and allow for operator overloading, object comparison, and more.\n",
        "\n",
        "Dunder methods help make code more intuitive and readable by allowing objects to interact seamlessly with Python's built-in functions and operators.\n"
      ],
      "metadata": {
        "id": "jKWwBe6I3ICu"
      }
    },
    {
      "cell_type": "code",
      "source": [
        "#Example\n",
        "\n",
        "class Book:\n",
        "    def __init__(self, title):\n",
        "        self.title = title\n",
        "\n",
        "    def __str__(self):\n",
        "        return f\"Book: {self.title}\"\n",
        "\n",
        "book = Book(\"Python\")\n",
        "print(book)"
      ],
      "metadata": {
        "colab": {
          "base_uri": "https://localhost:8080/"
        },
        "id": "N9yKgFMp4B6m",
        "outputId": "56ff234a-723b-4f7b-ea0b-94290be5257e"
      },
      "execution_count": null,
      "outputs": [
        {
          "output_type": "stream",
          "name": "stdout",
          "text": [
            "Book: Python\n"
          ]
        }
      ]
    },
    {
      "cell_type": "markdown",
      "source": [
        "# 6. Explain the concept of inheritance in OOP.\n",
        "\n",
        "\n",
        "In Object-Oriented Programming (OOP), inheritance is a fundamental concept that allows a class (called the child class or subclass) to inherit properties and behaviors (methods and attributes) from another class (called the parent class or superclass).\n",
        "\n",
        "This means the child class can access and use the functionalities of the parent class without rewriting the same code.\n",
        "\n",
        "In Python, inheritance is implemented by passing the parent class name inside parentheses when defining the child class.\n",
        "\n",
        "Inheritance promotes code reusability and helps in creating a hierarchical structure of classes. It also supports the concept of polymorphism, where a child class can modify or extend the behavior of inherited methods."
      ],
      "metadata": {
        "id": "7sWlUsux4UOO"
      }
    },
    {
      "cell_type": "code",
      "source": [
        "#Example\n",
        "class Animal:\n",
        "    def speak(self):\n",
        "        return \"Animal sound\"\n",
        "\n",
        "class Dog(Animal):\n",
        "    def speak(self):\n",
        "        return \"Bark\"\n",
        "\n",
        "d = Dog()\n",
        "print(d.speak())\n",
        "# In this example, the Dog class inherits the speak() method from Animal but overrides it with its own implementation. This shows how inheritance allows both reuse and customization of code."
      ],
      "metadata": {
        "colab": {
          "base_uri": "https://localhost:8080/"
        },
        "id": "6qoDZ0DY4klI",
        "outputId": "807ceb04-a118-405a-d451-92ce309365c2"
      },
      "execution_count": null,
      "outputs": [
        {
          "output_type": "stream",
          "name": "stdout",
          "text": [
            "Bark\n"
          ]
        }
      ]
    },
    {
      "cell_type": "markdown",
      "source": [
        "# 7. What is polymorphism in OOP?\n",
        "\n",
        "-> In Object-Oriented Programming (OOP), polymorphism refers to the ability of different classes to respond to the same method in different ways. The term comes from Greek and means “many forms.” It allows objects of different classes to be treated as if they were objects of the same class, particularly when they share a common parent class or interface.\n",
        "\n",
        "In Python, polymorphism is commonly achieved through method overriding and duck typing. For example, if two classes have a method with the same name, they can be used interchangeably in code even if their implementations differ.\n",
        "\n"
      ],
      "metadata": {
        "id": "WJU3_LCq5M6l"
      }
    },
    {
      "cell_type": "code",
      "source": [
        "class Cat:\n",
        "    def make_sound(self):\n",
        "        return \"Meow\"\n",
        "\n",
        "class Dog:\n",
        "    def make_sound(self):\n",
        "        return \"Bark\"\n",
        "\n",
        "def animal_sound(animal):\n",
        "    print(animal.make_sound())\n",
        "\n",
        "animal_sound(Cat())\n",
        "animal_sound(Dog())\n",
        "# In this example, the animal_sound() function can work with any object that has a make_sound() method. This is polymorphism in action—it simplifies code and makes it more flexible and scalable."
      ],
      "metadata": {
        "colab": {
          "base_uri": "https://localhost:8080/"
        },
        "id": "DwF2uVRY50R7",
        "outputId": "8a78d850-318b-45e3-8a65-69459cd2f19c"
      },
      "execution_count": null,
      "outputs": [
        {
          "output_type": "stream",
          "name": "stdout",
          "text": [
            "Meow\n",
            "Bark\n"
          ]
        }
      ]
    },
    {
      "cell_type": "markdown",
      "source": [
        "# 8. How is encapsulation achieved in Python?\n",
        "\n",
        "-> In Python, encapsulation is achieved by restricting direct access to some of an object's attributes and methods, usually to protect the internal state and ensure that objects are used only in intended ways. Python supports encapsulation through the use of access modifiers and getter/setter methods.\n",
        "\n",
        "Here's how encapsulation is done in Python:\n",
        "\n",
        "Public Members: Attributes or methods without underscores (name) are public and accessible from anywhere.\n",
        "\n",
        "Protected Members: A single underscore (_name) suggests that a variable is meant for internal use only, though it's still accessible.\n",
        "\n",
        "Private Members: A double underscore (__name) makes a variable name mangled, meaning it can't be accessed directly from outside the class.\n",
        "\n",
        "\n"
      ],
      "metadata": {
        "id": "9qlW7-s16ejS"
      }
    },
    {
      "cell_type": "code",
      "source": [
        "class Student:\n",
        "    def __init__(self, name, grade):\n",
        "        self.name = name\n",
        "        self.__grade = grade  # private variable\n",
        "\n",
        "    def get_grade(self): #__grade is private and can’t be accessed directly from outside.\n",
        "        return self.__grade\n",
        "\n",
        "    def set_grade(self, new_grade):\n",
        "        if 0 <= new_grade <= 100:\n",
        "            self.__grade = new_grade\n",
        "\n",
        "# Creating object\n",
        "s = Student(\"Sunil\", 85)\n",
        "\n",
        "print(s.name)\n",
        "print(s.get_grade())\n",
        "\n",
        "s.set_grade(90)\n",
        "print(s.get_grade())\n"
      ],
      "metadata": {
        "colab": {
          "base_uri": "https://localhost:8080/"
        },
        "id": "cPW9WJ_E7T8V",
        "outputId": "6280da2d-4954-4d7f-8ed8-902029799a78"
      },
      "execution_count": null,
      "outputs": [
        {
          "output_type": "stream",
          "name": "stdout",
          "text": [
            "Sunil\n",
            "85\n",
            "90\n"
          ]
        }
      ]
    },
    {
      "cell_type": "markdown",
      "source": [
        "#9. What is a constructor in Python?\n",
        "\n",
        "-> In Python, a constructor is a special method used to initialize objects when a class is instantiated. The constructor method is always named __init__().\n",
        "\n",
        "It automatically runs when we create a new object from a class and sets up the initial values (attributes) of the object."
      ],
      "metadata": {
        "id": "YSYxVxgK7wge"
      }
    },
    {
      "cell_type": "code",
      "source": [
        "class Car:\n",
        "    def __init__(self, brand, color):\n",
        "        self.brand = brand\n",
        "        self.color = color\n",
        "\n",
        "# Creating an object of Car\n",
        "my_car = Car(\"Toyota\", \"Red\")\n",
        "\n",
        "print(my_car.brand)\n",
        "print(my_car.color)\n",
        "# __init__() is the constructor.\n",
        "#It takes self and other parameters (brand, color) to initialize the object.\n",
        "#When my_car = Car(\"Toyota\", \"Red\") is called, the constructor sets the values automatically."
      ],
      "metadata": {
        "colab": {
          "base_uri": "https://localhost:8080/"
        },
        "id": "WfsFzrF78Fy-",
        "outputId": "210aa260-46c6-4696-9c9d-81e664d27163"
      },
      "execution_count": null,
      "outputs": [
        {
          "output_type": "stream",
          "name": "stdout",
          "text": [
            "Toyota\n",
            "Red\n"
          ]
        }
      ]
    },
    {
      "cell_type": "markdown",
      "source": [
        "# 10.What are class and static methods in Python?\n",
        "\n",
        "\n",
        "-> In Python, class methods and static methods are two special types of methods used within classes to provide different functionality. A class method is defined using the @classmethod decorator and takes cls (the class itself) as its first parameter instead of self.\n",
        "\n",
        "This allows class methods to access or modify class-level variables shared among all instances.\n",
        "\n",
        "They are often used for creating alternative constructors or performing operations related to the class rather than any one object.\n",
        "\n",
        "On the other hand, a static method is defined using the @staticmethod decorator and does not take self or cls as a parameter.\n",
        "\n",
        "It behaves like a regular function but is included inside the class for organizational purposes. Static methods don't access or modify class or instance data—they are used for utility functions that have a logical connection to the class.\n",
        "\n",
        "Both types help structure code better and maintain clear separation of responsibilities within classes."
      ],
      "metadata": {
        "id": "-Mw7CAJN9Dbi"
      }
    },
    {
      "cell_type": "markdown",
      "source": [
        "# 11. What is method overloading in Python?\n",
        "\n",
        "In Python, method overloading refers to the ability to define multiple methods with the same name but different arguments. However, Python does not support traditional method overloading like some other languages (such as Java or C++). Instead, Python handles this using default arguments or variable-length arguments (*args and **kwargs) to simulate method overloading behavior.\n",
        "\n",
        "Since Python methods can only have one definition per name in a class, if you define a method multiple times, the last definition will overwrite the previous ones. To achieve overloading-like behavior, you can use conditions inside a single method to handle different types or numbers of arguments.\n"
      ],
      "metadata": {
        "id": "Y-XGP6G9-TKe"
      }
    },
    {
      "cell_type": "code",
      "source": [
        "#Example\n",
        "class Greet:\n",
        "    def hello(self, name=None):\n",
        "        if name:\n",
        "            print(\"Hello, \" + name)\n",
        "        else:\n",
        "            print(\"Hello!\")\n",
        "\n",
        "g = Greet()\n",
        "g.hello()\n",
        "g.hello(\"Sunil\")\n",
        "# In this example, the hello() method behaves differently based on whether an argument is provided, mimicking overloading.\n",
        "# So, while Python doesn't support true method overloading, it offers flexible ways to achieve similar functionality."
      ],
      "metadata": {
        "colab": {
          "base_uri": "https://localhost:8080/"
        },
        "id": "OEzhxYw1-huJ",
        "outputId": "c78da9b5-b217-4f94-dafb-22b39b3469c0"
      },
      "execution_count": null,
      "outputs": [
        {
          "output_type": "stream",
          "name": "stdout",
          "text": [
            "Hello!\n",
            "Hello, Sunil\n"
          ]
        }
      ]
    },
    {
      "cell_type": "markdown",
      "source": [
        "# 12. What is method overriding in OOP?\n",
        "\n",
        "-> In Object-Oriented Programming (OOP) with Python, method overriding is a concept where a subclass provides its own implementation of a method that is already defined in its parent (or superclass). This allows the child class to customize or completely change the behavior of that inherited method to suit its specific needs.\n",
        "\n",
        "When a method is overridden, Python will use the version of the method defined in the subclass instead of the one in the parent class—only if it's called through an instance of the subclass. This is a key part of polymorphism, as it allows the same method name to behave differently depending on the object that calls it."
      ],
      "metadata": {
        "id": "Fae7zE81_JKN"
      }
    },
    {
      "cell_type": "code",
      "source": [
        "# Example\n",
        "class Animal:\n",
        "    def speak(self):\n",
        "        print(\"Animal speaks\")\n",
        "\n",
        "class Dog(Animal):\n",
        "    def speak(self):\n",
        "        print(\"Dog barks\")\n",
        "\n",
        "a = Animal()\n",
        "d = Dog()\n",
        "\n",
        "a.speak()\n",
        "d.speak()\n",
        "# In this example, the Dog class overrides the speak() method of the Animal class.\n",
        "# When speak() is called on a Dog object, it uses the overridden version. This helps make code more dynamic and adaptable."
      ],
      "metadata": {
        "colab": {
          "base_uri": "https://localhost:8080/"
        },
        "id": "Iegx0I1tAI6U",
        "outputId": "79d5ee43-23cd-42ec-cfe9-6012a74fa916"
      },
      "execution_count": null,
      "outputs": [
        {
          "output_type": "stream",
          "name": "stdout",
          "text": [
            "Animal speaks\n",
            "Dog barks\n"
          ]
        }
      ]
    },
    {
      "cell_type": "markdown",
      "source": [
        "# 13. What is a property decorator in Python?\n",
        "\n",
        "-> In Python, the @property decorator is used to define getter methods that can be accessed like attributes, making the code cleaner and more intuitive.\n",
        "\n",
        "It allows you to define methods in a class that can be accessed without parentheses, just like regular variables, while still allowing the logic of a method behind the scenes.\n",
        "\n",
        "This is especially useful for encapsulation—you can manage how a value is retrieved or calculated without changing how it's accessed externally.\n"
      ],
      "metadata": {
        "id": "T4RZHe3aBVGi"
      }
    },
    {
      "cell_type": "code",
      "source": [
        "#Example\n",
        "class Circle:\n",
        "    def __init__(self, radius):\n",
        "        self._radius = radius\n",
        "\n",
        "    @property\n",
        "    def area(self):\n",
        "        return 3.14 * self._radius * self._radius\n",
        "\n",
        "c = Circle(5)\n",
        "print(c.area)\n",
        "#In this example, area looks like a regular variable when accessed, but it's actually calculated by a method.\n",
        "#You can also use @<property_name>.setter and @<property_name>.deleter to control setting and deleting that property.\n",
        "#This gives you more control over how attributes are managed in your classes."
      ],
      "metadata": {
        "colab": {
          "base_uri": "https://localhost:8080/"
        },
        "id": "sdZNUIrvByU8",
        "outputId": "93a0d744-fa9c-4952-e214-2c9a2b793cc5"
      },
      "execution_count": null,
      "outputs": [
        {
          "output_type": "stream",
          "name": "stdout",
          "text": [
            "78.5\n"
          ]
        }
      ]
    },
    {
      "cell_type": "markdown",
      "source": [
        "# 14. Why is polymorphism important in OOP?\n",
        "\n",
        "-> Polymorphism is important in Object-Oriented Programming (OOP) because it allows objects of different classes to be treated as objects of a common superclass.\n",
        "\n",
        "This means that the same interface or method name can behave differently depending on the object that uses it, enabling flexibility and dynamic behavior in code.\n",
        "\n",
        "It supports code reusability, scalability, and maintainability by allowing functions and methods to work with objects of different types without knowing their exact class.\n",
        "\n",
        "This is especially useful in large systems where different classes share common behavior but may implement it differently."
      ],
      "metadata": {
        "id": "12tLWgPbCEaK"
      }
    },
    {
      "cell_type": "code",
      "source": [
        "# Example\n",
        "class Bird:\n",
        "    def speak(self):\n",
        "        print(\"Bird sounds\")\n",
        "\n",
        "class Parrot(Bird):\n",
        "    def speak(self):\n",
        "        print(\"Parrot says hello\")\n",
        "\n",
        "class Crow(Bird):\n",
        "    def speak(self):\n",
        "        print(\"Caw Caw\")\n",
        "\n",
        "def make_sound(bird):\n",
        "    bird.speak()\n",
        "\n",
        "make_sound(Parrot())\n",
        "make_sound(Crow())\n",
        "# Here, the make_sound() function works with any Bird type, but the behavior changes based on the actual object passed.\n",
        "# This is polymorphism in action—same method name, different behavior, depending on the object."
      ],
      "metadata": {
        "colab": {
          "base_uri": "https://localhost:8080/"
        },
        "id": "7yZb5XVfCleY",
        "outputId": "ff85a62b-6e46-477f-f5a8-958ba94cf25c"
      },
      "execution_count": null,
      "outputs": [
        {
          "output_type": "stream",
          "name": "stdout",
          "text": [
            "Parrot says hello\n",
            "Caw Caw\n"
          ]
        }
      ]
    },
    {
      "cell_type": "markdown",
      "source": [
        "# 15. What is an abstract class in Python?\n",
        "\n",
        "-> An abstract class in Python is a class that cannot be instantiated directly and is meant to be a blueprint for other classes. It can contain abstract methods, which are methods declared but not implemented—subclasses must provide their own implementation for these methods.\n",
        "\n",
        "Abstract classes are defined using the abc module (abc stands for Abstract Base Classes), and abstract methods are marked using the @abstractmethod decorator.\n",
        "\n",
        "Why to Use:\n",
        "\n",
        "1. To enforce a certain structure in all derived classes.\n",
        "\n",
        "2. To prevent direct instantiation of incomplete base classes."
      ],
      "metadata": {
        "id": "snxg9co3C481"
      }
    },
    {
      "cell_type": "code",
      "source": [
        "# Example\n",
        "from abc import ABC, abstractmethod\n",
        "\n",
        "class Animal(ABC):\n",
        "    @abstractmethod\n",
        "    def sound(self):\n",
        "        pass\n",
        "\n",
        "class Dog(Animal):\n",
        "    def sound(self):\n",
        "        return \"Bark\"\n",
        "\n",
        "d = Dog()\n",
        "print(d.sound())\n",
        "\n",
        "# a = Animal() This would raise an error: Can't instantiate abstract class\n",
        "# In this example, Animal is an abstract class with an abstract method sound().\n",
        "# The Dog class implements this method, so it can be instantiated.\n",
        "# This ensures all subclasses of Animal have a sound() method defined, promoting consistency in design.\n"
      ],
      "metadata": {
        "colab": {
          "base_uri": "https://localhost:8080/"
        },
        "id": "CIY9uw0vDk-t",
        "outputId": "884603db-3965-405d-ed42-292e023f1d82"
      },
      "execution_count": null,
      "outputs": [
        {
          "output_type": "stream",
          "name": "stdout",
          "text": [
            "Bark\n"
          ]
        }
      ]
    },
    {
      "cell_type": "markdown",
      "source": [
        "# 16. What are the advantages of OOP?\n",
        "\n",
        "-> Object-Oriented Programming (OOP) offers several advantages that make it a powerful programming paradigm for building complex, scalable, and maintainable software systems. Here are the key advantages:\n",
        "\n",
        "1. Modularity: OOP promotes breaking down programs into smaller, self-contained units called classes. Each class handles a specific part of the program, making it easier to manage and organize code.\n",
        "\n",
        "2. Reusability: Once a class is written, it can be reused in other programs or extended using inheritance, reducing code duplication and saving development time.\n",
        "\n",
        "3. Encapsulation: OOP bundles data and methods that operate on that data within classes. It allows for restricting access to certain parts of an object, which enhances security and simplifies maintenance.\n",
        "\n",
        "4. Inheritance: With inheritance, a new class (child) can inherit attributes and methods from an existing class (parent), enabling code reuse and creating a clear class hierarchy.\n",
        "\n",
        "5. Polymorphism: OOP allows the same method to behave differently on different classes, making code more flexible and easier to extend in the future.\n",
        "\n",
        "6. Maintainability: Since OOP code is organized into objects and classes, it's easier to locate and fix bugs, update features, or scale the application without affecting unrelated parts.\n",
        "\n",
        "7. Real-world Modeling: OOP closely resembles real-world entities and behaviors, making it intuitive and effective for solving real-life problems through software.\n",
        "\n",
        "These features make OOP ideal for building large and complex software systems that are easier to understand, develop, and maintain over time."
      ],
      "metadata": {
        "id": "n_RiIlQJEHe8"
      }
    },
    {
      "cell_type": "markdown",
      "source": [
        "# 17. What is the difference between a class variable and an instance variable?\n",
        "\n",
        "-> In Python, class variables and instance variables serve different purposes within object-oriented programming.\n",
        "\n",
        "A class variable is shared among all instances of a class. It is defined inside the class but outside of any instance methods, meaning that it is common to every object created from the class. This makes class variables useful for data that should remain consistent across all instances, such as a species name or a counter tracking the number of objects created.\n",
        "\n",
        "On the other hand, an instance variable is unique to each individual object and is usually defined within the __init__ method using the self keyword. These variables hold data that is specific to the object, like a person's name or age in a Person class.\n",
        "\n",
        "While each instance of a class will have its own copy of the instance variables, all instances will refer to the same class variable unless it is specifically overridden.\n",
        "\n",
        "This distinction helps keep shared information and object-specific data clearly separated in object-oriented programming."
      ],
      "metadata": {
        "id": "J0gH6pAuIFwM"
      }
    },
    {
      "cell_type": "markdown",
      "source": [
        "# 18. What is multiple inheritance in Python?\n",
        "\n",
        "->Multiple inheritance in Python is a feature that allows a class to inherit from more than one parent class. This means a single child class can access attributes and methods from multiple parent classes, enabling it to combine functionalities from various sources. Python supports this using a very flexible object model and uses a method resolution order (MRO) to handle any conflicts that might arise when methods or attributes are present in more than one parent."
      ],
      "metadata": {
        "id": "9I75Ug3cJBEN"
      }
    },
    {
      "cell_type": "code",
      "source": [
        "class Father:\n",
        "    def skills(self):\n",
        "        return \"Gardening\"\n",
        "\n",
        "class Mother:\n",
        "    def skills(self):\n",
        "        return \"Cooking\"\n",
        "\n",
        "class Child(Father, Mother):\n",
        "    pass\n",
        "\n",
        "c = Child()\n",
        "print(c.skills())\n",
        "\n",
        "# In this case, Child inherits from both Father and Mother.\n",
        "# If both parent classes have a method with the same name, Python resolves it using the Method Resolution Order, which goes from left to right in the parent class list (Father first, then Mother).\n",
        "# Multiple inheritance is powerful but should be used with care to avoid confusion and maintain clarity in your code.\n"
      ],
      "metadata": {
        "colab": {
          "base_uri": "https://localhost:8080/"
        },
        "id": "Qn4uwKbTJYCd",
        "outputId": "ad7c1fc0-daa0-4962-ed9d-499152e3a72a"
      },
      "execution_count": null,
      "outputs": [
        {
          "output_type": "stream",
          "name": "stdout",
          "text": [
            "Gardening\n"
          ]
        }
      ]
    },
    {
      "cell_type": "markdown",
      "source": [
        "# 19. Explain the purpose of ‘’__str__’ and ‘__repr__’ ‘ methods in Python?\n",
        "\n",
        "-> In Python, the __str__ and __repr__ methods are dunder (double underscore) methods used to define how objects of a class are represented as strings.\n",
        "\n",
        "The __str__ method is meant to return a human-readable string representation of an object. It is what gets called when you use print() or str() on an object. It's designed for end users.\n",
        "\n",
        "The __repr__ method, on the other hand, is intended to return a developer-friendly string representation of the object. It should ideally return a string that can be used to recreate the object using eval(), or at least give a detailed and unambiguous description of it. It is what gets called when you enter an object into the Python shell or use repr()."
      ],
      "metadata": {
        "id": "TgxhSU4MJzmL"
      }
    },
    {
      "cell_type": "code",
      "source": [
        "class Book:\n",
        "    def __init__(self, title, author):\n",
        "        self.title = title\n",
        "        self.author = author\n",
        "\n",
        "    def __str__(self):\n",
        "        return f\"'{self.title}' by {self.author}\"\n",
        "\n",
        "    def __repr__(self):\n",
        "        return f\"Book('{self.title}', '{self.author}')\"\n",
        "\n",
        "b = Book(\"1999\", \"Velapula Sunil\")\n",
        "print(str(b))\n",
        "print(repr(b))\n",
        "# In short, __str__ is for readability, and __repr__ is for accuracy and debugging. If only __repr__ is defined, Python will use it as a fallback for __str__ as well."
      ],
      "metadata": {
        "colab": {
          "base_uri": "https://localhost:8080/"
        },
        "id": "33ohzdenKR2M",
        "outputId": "af5a3e9c-2f79-4166-c12b-f9233425e816"
      },
      "execution_count": null,
      "outputs": [
        {
          "output_type": "stream",
          "name": "stdout",
          "text": [
            "'1999' by Velapula Sunil\n",
            "Book('1999', 'Velapula Sunil')\n"
          ]
        }
      ]
    },
    {
      "cell_type": "markdown",
      "source": [
        "# 20. What is the significance of the ‘super()’ function in Python?\n",
        "\n",
        "-> The super() function in Python is used to access methods and properties of a parent or superclass from within a child or subclass. It is especially significant in the context of inheritance, where it allows you to call the parent class's methods without explicitly naming the parent class, making your code more maintainable and adaptable to changes.\n",
        "\n",
        "\n",
        "The primary use of super() is in the __init__() method to ensure that the parent class is properly initialized. However, it can also be used to call other overridden methods from the parent class."
      ],
      "metadata": {
        "id": "Z5WDSdBcfgPo"
      }
    },
    {
      "cell_type": "code",
      "source": [
        "# Example:\n",
        "\n",
        "class Animal:\n",
        "    def __init__(self, name):\n",
        "        self.name = name\n",
        "\n",
        "    def speak(self):\n",
        "        return f\"{self.name} makes a sound\"\n",
        "\n",
        "class Dog(Animal):\n",
        "    def __init__(self, name, breed):\n",
        "        super().__init__(name)  # Call to parent class's constructor\n",
        "        self.breed = breed\n",
        "\n",
        "    def speak(self):\n",
        "        return f\"{self.name} barks\"\n",
        "\n",
        "d = Dog(\"Buddy\", \"Labrador\")\n",
        "print(d.speak())\n",
        "\n",
        "# In this example, super().__init__(name) ensures that the name attribute is set using the parent Animal class’s constructor.\n",
        "# This approach helps maintain clean and DRY (Don't Repeat Yourself) code, especially in scenarios involving multiple inheritance or method overriding."
      ],
      "metadata": {
        "colab": {
          "base_uri": "https://localhost:8080/"
        },
        "id": "QASV8qahgF8t",
        "outputId": "edb39298-c6ec-40a3-a502-0bf87e53ac43"
      },
      "execution_count": null,
      "outputs": [
        {
          "output_type": "stream",
          "name": "stdout",
          "text": [
            "Buddy barks\n"
          ]
        }
      ]
    },
    {
      "cell_type": "markdown",
      "source": [
        "# 21. What is the significance of the __del__ method in Python?\n",
        "\n",
        "-> In Python, the __del__ method is known as the destructor method and is automatically called when an object is about to be destroyed.\n",
        "\n",
        "Its main purpose is to allow for cleanup actions before the object is removed from memory, such as closing open files, releasing network connections, or freeing up system resources.\n",
        "\n",
        "This method is useful in scenarios where an object manages external resources that need to be explicitly released.\n",
        "\n",
        "However, relying on __del__ is generally discouraged because the timing of its execution is not guaranteed—especially in cases involving circular references or in some Python implementations like PyPy. A more reliable approach for resource management is to use context managers (with statements) with __enter__ and __exit__ methods.\n",
        "\n",
        "Nonetheless, __del__ can still be helpful in certain situations where automatic cleanup is desirable when an object is deleted or goes out of scope.\n"
      ],
      "metadata": {
        "id": "DLJUIxptgqAU"
      }
    },
    {
      "cell_type": "markdown",
      "source": [
        "# 22. What is the difference between @staticmethod and @classmethod in Python?\n",
        "\n",
        "-> In Python, both @staticmethod and @classmethod are decorators used to define methods that are not regular instance methods, but they serve different purposes and have different behaviors.\n",
        "\n",
        "A @staticmethod is a method that does not receive an implicit first argument like self or cls. It behaves just like a regular function but belongs to the class's namespace. It cannot access or modify the class or instance state and is typically used for utility functions related to the class, but not dependent on class or instance attributes.\n",
        "\n",
        "On the other hand, a @classmethod receives the class itself as the first argument, usually named cls. This allows the method to access or modify class-level attributes and to create new instances of the class. It is useful when the behavior of the method depends on the class itself, rather than on any particular instance.\n"
      ],
      "metadata": {
        "id": "fSabhHaMh6au"
      }
    },
    {
      "cell_type": "markdown",
      "source": [
        "# 23. How does polymorphism work in Python with inheritance?\n",
        "\n",
        "Polymorphism in Python with inheritance allows objects of different classes to be treated as objects of a common superclass. It enables a unified interface to be used for different underlying forms (data types or classes). When a base class defines a method, and subclasses override that method, Python’s polymorphism allows calling the same method name on different objects and executing behavior specific to each subclass.\n"
      ],
      "metadata": {
        "id": "1yhn_m5WiTwu"
      }
    },
    {
      "cell_type": "code",
      "source": [
        "# Example:\n",
        "\n",
        "\n",
        "class Animal:\n",
        "    def speak(self):\n",
        "        print(\"Some sound\")\n",
        "\n",
        "class Dog(Animal):\n",
        "    def speak(self):\n",
        "        print(\"Bow..!\")\n",
        "\n",
        "class Cat(Animal):\n",
        "    def speak(self):\n",
        "        print(\"Meow...!\")\n",
        "\n",
        "# Using polymorphism\n",
        "animals = [Dog(), Cat()]\n",
        "\n",
        "for animal in animals:\n",
        "    animal.speak()\n",
        "\n",
        "# In this code, even though animal is treated as an Animal, the correct subclass method (Dog.speak or Cat.speak) is called at runtime.\n",
        "# This is the core of polymorphism: enabling code that is flexible, reusable, and easier to maintain, by allowing different types to respond to the same method call in their own unique way.\n"
      ],
      "metadata": {
        "id": "nXwpms9oibq1",
        "colab": {
          "base_uri": "https://localhost:8080/"
        },
        "outputId": "2577eabe-44d9-4545-fbeb-269ef6243e3f"
      },
      "execution_count": 3,
      "outputs": [
        {
          "output_type": "stream",
          "name": "stdout",
          "text": [
            "Bow..!\n",
            "Meow...!\n"
          ]
        }
      ]
    },
    {
      "cell_type": "markdown",
      "source": [
        "# 24. What is method chaining in Python OOP?\n",
        "\n",
        "-> Method chaining in Python OOP is a technique where multiple methods are called on the same object in a single line, one after another. This is done by having each method return the object (self) after performing its operation. It improves code readability and allows for fluent, compact syntax when multiple operations need to be applied to an object."
      ],
      "metadata": {
        "id": "GONmA6QRi1-_"
      }
    },
    {
      "cell_type": "code",
      "source": [
        "# Example:\n",
        "\n",
        "class Book:\n",
        "    def __init__(self, title):\n",
        "        self.title = title\n",
        "        self.author = None\n",
        "        self.price = 0\n",
        "\n",
        "    def set_author(self, author):\n",
        "        self.author = author\n",
        "        return self\n",
        "\n",
        "    def set_price(self, price):\n",
        "        self.price = price\n",
        "        return self\n",
        "\n",
        "    def display(self):\n",
        "        print(f\"Title: {self.title}, Author: {self.author}, Price: {self.price}\")\n",
        "        return self\n",
        "\n",
        "# Using method chaining\n",
        "book = Book(\"Python OOP\").set_author(\"Sunil\").set_price(299).display()\n",
        "\n",
        "\n",
        "# In this example, each method returns the instance (self), allowing calls like .set_author().set_price().display() to be chained together.\n",
        "# This is especially useful in configurations, builders, and fluent APIs."
      ],
      "metadata": {
        "colab": {
          "base_uri": "https://localhost:8080/"
        },
        "id": "WgjkPoAvjEG8",
        "outputId": "e839b604-ba55-45a5-d97f-09cabaacb087"
      },
      "execution_count": null,
      "outputs": [
        {
          "output_type": "stream",
          "name": "stdout",
          "text": [
            "Title: Python OOP, Author: Sunil, Price: 299\n"
          ]
        }
      ]
    },
    {
      "cell_type": "markdown",
      "source": [
        "# 25. What is the purpose of the __call__ method in Python?\n",
        "\n",
        "-> In Python, the __call__ method allows an object to behave like a function. When you define this method in a class, you can use instances of that class with parentheses, as if they were functions.\n",
        "\n",
        "For example, imagine a class named Greet that stores a person's name. If the __call__ method is defined inside this class to return a greeting message, then an object of Greet can be called directly.\n",
        "\n",
        "So, when you create an instance like greeter = Greet(\"Sunil\") and then write greeter(), it will return \"Hello, Sunil!\" by invoking the __call__ method internally.\n",
        "\n",
        "This makes the object act like a function and is especially useful in cases like decorators or objects that need to remember information between calls."
      ],
      "metadata": {
        "id": "-NyF0BgmjZJg"
      }
    },
    {
      "cell_type": "code",
      "source": [
        "#Example:\n",
        "\n",
        "class Greet:\n",
        "    def __init__(self, name):\n",
        "        self.name = name\n",
        "\n",
        "    def __call__(self):\n",
        "        return f\"Hello, {self.name}!\"\n",
        "\n",
        "greeter = Greet(\"Sunil\")\n",
        "print(greeter())  # Calls the __call__ method\n"
      ],
      "metadata": {
        "colab": {
          "base_uri": "https://localhost:8080/"
        },
        "id": "GvGqVvYUj53J",
        "outputId": "3277d88a-451c-4c5e-9077-82c3185bf1a3"
      },
      "execution_count": null,
      "outputs": [
        {
          "output_type": "stream",
          "name": "stdout",
          "text": [
            "Hello, Sunil!\n"
          ]
        }
      ]
    },
    {
      "cell_type": "markdown",
      "source": [
        "**Practical Questions**"
      ],
      "metadata": {
        "id": "m8pmroD5B0jE"
      }
    },
    {
      "cell_type": "code",
      "source": [
        "# 1. Create a parent class Animal with a method speak() that prints a generic message. Create a child class Dog that overrides the speak() method to print \"Bark!\".\n",
        "\n",
        "class Animal:\n",
        "    def speak(self):\n",
        "        print(\"The animal makes a sound.\")\n",
        "\n",
        "class Dog(Animal):\n",
        "    def speak(self):\n",
        "        print(\"Bark!\")\n",
        "\n",
        "a = Animal()\n",
        "a.speak()\n",
        "\n",
        "d = Dog()\n",
        "d.speak()"
      ],
      "metadata": {
        "colab": {
          "base_uri": "https://localhost:8080/"
        },
        "id": "KnOko_sAB2X4",
        "outputId": "7ab235ea-2135-4924-bb85-75767f672a21"
      },
      "execution_count": 31,
      "outputs": [
        {
          "output_type": "stream",
          "name": "stdout",
          "text": [
            "The animal makes a sound.\n",
            "Bark!\n"
          ]
        }
      ]
    },
    {
      "cell_type": "code",
      "source": [
        "# 2. Write a program to create an abstract class Shape with a method area(). Derive classes Circle and Rectangle from it and implement the area() method in both.\n",
        "\n",
        "\n",
        "from abc import ABC, abstractmethod\n",
        "import math\n",
        "\n",
        "# Abstract base class\n",
        "class Shape(ABC):\n",
        "    @abstractmethod\n",
        "    def area(self):\n",
        "        pass\n",
        "\n",
        "# Derived class Circle\n",
        "class Circle(Shape):\n",
        "    def __init__(self, radius):\n",
        "        self.radius = radius\n",
        "\n",
        "    def area(self):\n",
        "        return math.pi * self.radius ** 2\n",
        "\n",
        "# Derived class Rectangle\n",
        "class Rectangle(Shape):\n",
        "    def __init__(self, length, width):\n",
        "        self.length = length\n",
        "        self.width = width\n",
        "\n",
        "    def area(self):\n",
        "        return self.length * self.width\n",
        "\n",
        "# Example usage\n",
        "circle = Circle(5)\n",
        "print(\"Circle area:\", circle.area())\n",
        "\n",
        "rectangle = Rectangle(4, 8)\n",
        "print(\"Rectangle area:\", rectangle.area())"
      ],
      "metadata": {
        "colab": {
          "base_uri": "https://localhost:8080/"
        },
        "id": "g4SiOFTVCSId",
        "outputId": "d3c394b2-fd4c-451c-a72e-40c223d4e211"
      },
      "execution_count": 7,
      "outputs": [
        {
          "output_type": "stream",
          "name": "stdout",
          "text": [
            "Circle area: 78.53981633974483\n",
            "Rectangle area: 32\n"
          ]
        }
      ]
    },
    {
      "cell_type": "code",
      "source": [
        "# 3. Implement a multi-level inheritance scenario where a class Vehicle has an attribute type. Derive a class Car and further derive a class Electric Car that adds a battery attribute.\n",
        "\n",
        "\n",
        "# Base class\n",
        "class Vehicle:\n",
        "    def __init__(self, vehicle_type):\n",
        "        self.vehicle_type = vehicle_type\n",
        "\n",
        "# Derived class from Vehicle\n",
        "class Car(Vehicle):\n",
        "    def __init__(self, vehicle_type, brand):\n",
        "        super().__init__(vehicle_type)\n",
        "        self.brand = brand\n",
        "\n",
        "# Further derived class from Car\n",
        "class ElectricCar(Car):\n",
        "    def __init__(self, vehicle_type, brand, battery_capacity):\n",
        "        super().__init__(vehicle_type, brand)\n",
        "        self.battery_capacity = battery_capacity\n",
        "\n",
        "    def display_info(self):\n",
        "        print(f\"Type: {self.vehicle_type}\")\n",
        "        print(f\"Brand: {self.brand}\")\n",
        "        print(f\"Battery: {self.battery_capacity} kWh\")\n",
        "\n",
        "e_car = ElectricCar(\"Four Wheeler\", \"Tesla\", 75)\n",
        "e_car.display_info()\n"
      ],
      "metadata": {
        "colab": {
          "base_uri": "https://localhost:8080/"
        },
        "id": "EW5zuCfUC-5p",
        "outputId": "b6331584-dce9-4846-a879-9ff6e6377297"
      },
      "execution_count": 32,
      "outputs": [
        {
          "output_type": "stream",
          "name": "stdout",
          "text": [
            "Type: Four Wheeler\n",
            "Brand: Tesla\n",
            "Battery: 75 kWh\n"
          ]
        }
      ]
    },
    {
      "cell_type": "code",
      "source": [
        " # 4. Demonstrate polymorphism by creating a base class Bird with a method fly(). Create two derived classes  Sparrow and Penguin that override the fly() method.\n",
        "\n",
        " # Base class\n",
        "class Bird:\n",
        "    def fly(self):\n",
        "        print(\"Bird is flying...\")\n",
        "\n",
        "# Derived class Sparrow\n",
        "class Sparrow(Bird):\n",
        "    def fly(self):\n",
        "        print(\"Sparrow flies high in the sky!\")\n",
        "\n",
        "# Derived class Penguin\n",
        "class Penguin(Bird):\n",
        "    def fly(self):\n",
        "        print(\"Penguins can't fly, but they swim well!\")\n",
        "\n",
        "# Function to demonstrate polymorphism\n",
        "def bird_flight(bird):\n",
        "    bird.fly()\n",
        "\n",
        "# Creating objects\n",
        "sparrow = Sparrow()\n",
        "penguin = Penguin()\n",
        "\n",
        "# Calling the same method with different objects\n",
        "bird_flight(sparrow)\n",
        "bird_flight(penguin)"
      ],
      "metadata": {
        "colab": {
          "base_uri": "https://localhost:8080/"
        },
        "id": "zJLzU_kjEqDp",
        "outputId": "459f0a2c-3bf8-46db-c9b5-68b1c7307da3"
      },
      "execution_count": 33,
      "outputs": [
        {
          "output_type": "stream",
          "name": "stdout",
          "text": [
            "Sparrow flies high in the sky!\n",
            "Penguins can't fly, but they swim well!\n"
          ]
        }
      ]
    },
    {
      "cell_type": "code",
      "source": [
        "# 5. Write a program to demonstrate encapsulation by creating a class BankAccount with private attributes balance and methods to deposit, withdraw, and check balance.\n",
        "\n",
        "class BankAccount:\n",
        "    def __init__(self, initial_balance=0):\n",
        "        self.__balance = initial_balance  # Private attribute\n",
        "\n",
        "    def deposit(self, amount):\n",
        "        if amount > 0:\n",
        "            self.__balance += amount\n",
        "            print(f\"Deposited: Rs{amount}\")\n",
        "        else:\n",
        "            print(\"Invalid deposit amount.\")\n",
        "\n",
        "    def withdraw(self, amount):\n",
        "        if 0 < amount <= self.__balance:\n",
        "            self.__balance -= amount\n",
        "            print(f\"Withdrew: Rs{amount}\")\n",
        "        else:\n",
        "            print(\"Insufficient balance or invalid amount.\")\n",
        "\n",
        "    def check_balance(self):\n",
        "        print(f\"Current Balance: Rs{self.__balance}\")\n",
        "\n",
        "account = BankAccount(1000)\n",
        "account.deposit(500)\n",
        "account.withdraw(300)\n",
        "account.check_balance()\n",
        "\n",
        "# Attempting to access private attribute directly (won't work)\n",
        "# print(account.__balance)  # This will raise an AttributeError"
      ],
      "metadata": {
        "colab": {
          "base_uri": "https://localhost:8080/"
        },
        "id": "EPHPXgEKFBTY",
        "outputId": "d74b07ac-8baa-41f1-b098-b1054467c6c7"
      },
      "execution_count": 34,
      "outputs": [
        {
          "output_type": "stream",
          "name": "stdout",
          "text": [
            "Deposited: Rs500\n",
            "Withdrew: Rs300\n",
            "Current Balance: Rs1200\n"
          ]
        }
      ]
    },
    {
      "cell_type": "code",
      "source": [
        "# 6. Demonstrate runtime polymorphism using a method play() in a base class Instrument. Derive classes Guitar and Piano that implement their own version of play().\n",
        "\n",
        "class Instrument:\n",
        "    def play(self):\n",
        "        print(\"Playing an instrument\")\n",
        "\n",
        "class Guitar(Instrument):\n",
        "    def play(self):\n",
        "        print(\"Strumming the guitar\")\n",
        "\n",
        "class Piano(Instrument):\n",
        "    def play(self):\n",
        "        print(\"Playing the piano keys\")\n",
        "\n",
        "# Runtime polymorphism\n",
        "def perform(instrument):\n",
        "    instrument.play()\n",
        "\n",
        "g = Guitar()\n",
        "p = Piano()\n",
        "\n",
        "perform(g)\n",
        "perform(p)\n"
      ],
      "metadata": {
        "colab": {
          "base_uri": "https://localhost:8080/"
        },
        "id": "o_Sp1eUEFo-C",
        "outputId": "8fa29d64-6aa1-4108-8291-19250fbd6806"
      },
      "execution_count": 35,
      "outputs": [
        {
          "output_type": "stream",
          "name": "stdout",
          "text": [
            "Strumming the guitar\n",
            "Playing the piano keys\n"
          ]
        }
      ]
    },
    {
      "cell_type": "code",
      "source": [
        "# 7. Create a class MathOperations with a class method add_numbers() to add two numbers and a static method subtract_numbers() to subtract two numbers.\n",
        "\n",
        "class MathOperations:\n",
        "\n",
        "    @classmethod\n",
        "    def add_numbers(cls, a, b):\n",
        "        return a + b\n",
        "\n",
        "    @staticmethod\n",
        "    def subtract_numbers(a, b):\n",
        "        return a - b\n",
        "\n",
        "# Take input from user\n",
        "num1 = float(input(\"Enter first number: \"))\n",
        "num2 = float(input(\"Enter second number: \"))\n",
        "\n",
        "# Perform operations\n",
        "print(\"Addition:\", MathOperations.add_numbers(num1, num2))\n",
        "print(\"Subtraction:\", MathOperations.subtract_numbers(num1, num2))"
      ],
      "metadata": {
        "colab": {
          "base_uri": "https://localhost:8080/"
        },
        "id": "UCBdHzNAF-dZ",
        "outputId": "9d314659-2ca7-41ec-d52a-ae2ffcdc5e30"
      },
      "execution_count": 36,
      "outputs": [
        {
          "output_type": "stream",
          "name": "stdout",
          "text": [
            "Enter first number: 44\n",
            "Enter second number: 34\n",
            "Addition: 78.0\n",
            "Subtraction: 10.0\n"
          ]
        }
      ]
    },
    {
      "cell_type": "code",
      "source": [
        "# 8. Implement a class Person with a class method to count the total number of persons created.\n",
        "\n",
        "class Person:\n",
        "    count = 0  # Class variable to track number of persons\n",
        "\n",
        "    def __init__(self, name):\n",
        "        self.name = name\n",
        "        Person.count += 1\n",
        "\n",
        "    @classmethod\n",
        "    def get_person_count(cls):\n",
        "        return cls.count\n",
        "\n",
        "# Creating person instances\n",
        "p1 = Person(\"Sunil\")\n",
        "p2 = Person(\"Ram\")\n",
        "p3 = Person(\"Karthik\")\n",
        "\n",
        "# Displaying total number of persons created\n",
        "print(\"Total persons created:\", Person.get_person_count())\n"
      ],
      "metadata": {
        "colab": {
          "base_uri": "https://localhost:8080/"
        },
        "id": "D0gE7WfsGdyI",
        "outputId": "9a34ba57-96e8-40b4-e6dc-06413e51fd23"
      },
      "execution_count": 37,
      "outputs": [
        {
          "output_type": "stream",
          "name": "stdout",
          "text": [
            "Total persons created: 3\n"
          ]
        }
      ]
    },
    {
      "cell_type": "code",
      "source": [
        "# 9. Write a class Fraction with attributes numerator and denominator. Override the str method to display the fraction as \"numerator/denominator\".\n",
        "\n",
        "\n",
        "class Fraction:\n",
        "    def __init__(self, numerator, denominator):\n",
        "        self.numerator = numerator\n",
        "        self.denominator = denominator\n",
        "\n",
        "    def __str__(self):\n",
        "        return f\"{self.numerator}/{self.denominator}\"\n",
        "\n",
        "f1 = Fraction(3, 4)\n",
        "f2 = Fraction(5, 8)\n",
        "\n",
        "print(f1)\n",
        "print(f2)"
      ],
      "metadata": {
        "colab": {
          "base_uri": "https://localhost:8080/"
        },
        "id": "kJOd0I5zGz_v",
        "outputId": "8e15cba5-61e1-48fe-fa0d-8b4d6fdcae9d"
      },
      "execution_count": 38,
      "outputs": [
        {
          "output_type": "stream",
          "name": "stdout",
          "text": [
            "3/4\n",
            "5/8\n"
          ]
        }
      ]
    },
    {
      "cell_type": "code",
      "source": [
        "# 10. Demonstrate operator overloading by creating a class Vector and overriding the add method to add two vectors.\n",
        "\n",
        "class Vector:\n",
        "    def __init__(self, x, y):\n",
        "        self.x = x\n",
        "        self.y = y\n",
        "\n",
        "    def __add__(self, other):\n",
        "        return Vector(self.x + other.x, self.y + other.y)\n",
        "\n",
        "    def __str__(self):\n",
        "        return f\"Vector({self.x}, {self.y})\"\n",
        "\n",
        "v1 = Vector(2, 3)\n",
        "v2 = Vector(4, 1)\n",
        "v3 = v1 + v2\n",
        "\n",
        "print(v3)"
      ],
      "metadata": {
        "colab": {
          "base_uri": "https://localhost:8080/"
        },
        "id": "Q1UWL0bsM3j1",
        "outputId": "7cda04d7-5c43-4d4e-8a2c-54f62313abae"
      },
      "execution_count": 39,
      "outputs": [
        {
          "output_type": "stream",
          "name": "stdout",
          "text": [
            "Vector(6, 4)\n"
          ]
        }
      ]
    },
    {
      "cell_type": "code",
      "source": [
        "# 11. Create a class Person with attributes name and age. Add a method greet() that prints \"Hello, my name is {name} and I am {age} years old.\"\n",
        "\n",
        "class Person:\n",
        "    def __init__(self, name, age):\n",
        "        self.name = name\n",
        "        self.age = age\n",
        "\n",
        "    def greet(self):\n",
        "        print(f\"Hello, my name is {self.name} and I am {self.age} years old.\")\n",
        "\n",
        "p1 = Person(\"Sunil\", 25)\n",
        "p1.greet()"
      ],
      "metadata": {
        "colab": {
          "base_uri": "https://localhost:8080/"
        },
        "id": "lEck8YEpNUo3",
        "outputId": "a78ae0e0-77b4-40ec-bc33-21770accf69a"
      },
      "execution_count": 40,
      "outputs": [
        {
          "output_type": "stream",
          "name": "stdout",
          "text": [
            "Hello, my name is Sunil and I am 25 years old.\n"
          ]
        }
      ]
    },
    {
      "cell_type": "code",
      "source": [
        "# 12. Implement a class Student with attributes name and grades. Create a method average_grade() to compute the average of the grades.\n",
        "\n",
        "class Student:\n",
        "    def __init__(self, name, grades):\n",
        "        self.name = name\n",
        "        self.grades = grades  # List of grades\n",
        "\n",
        "    def average_grade(self):\n",
        "        if not self.grades:\n",
        "            return 0\n",
        "        return sum(self.grades) / len(self.grades)\n",
        "\n",
        "s1 = Student(\"Sunil\", [85, 90, 78, 92])\n",
        "print(f\"{s1.name}'s average grade is: {s1.average_grade():.2f}\")"
      ],
      "metadata": {
        "colab": {
          "base_uri": "https://localhost:8080/"
        },
        "id": "Tct0CyBkN_Kk",
        "outputId": "81ecbfcf-3cfd-4481-d6d7-78e699697811"
      },
      "execution_count": 41,
      "outputs": [
        {
          "output_type": "stream",
          "name": "stdout",
          "text": [
            "Sunil's average grade is: 86.25\n"
          ]
        }
      ]
    },
    {
      "cell_type": "code",
      "source": [
        "#  13. Create a class Rectangle with methods set_dimensions() to set the dimensions and area() to calculate the area.\n",
        "\n",
        "class Rectangle:\n",
        "    def __init__(self):\n",
        "        self.length = 0\n",
        "        self.width = 0\n",
        "\n",
        "    def set_dimensions(self, length, width):\n",
        "        self.length = length\n",
        "        self.width = width\n",
        "\n",
        "    def area(self):\n",
        "        return self.length * self.width\n",
        "\n",
        "rect = Rectangle()\n",
        "rect.set_dimensions(10, 5)\n",
        "print(\"Area of the rectangle:\", rect.area())"
      ],
      "metadata": {
        "colab": {
          "base_uri": "https://localhost:8080/"
        },
        "id": "77vyQ5U9OM-U",
        "outputId": "fb773613-ad01-4e4a-ae45-238e03fa10c4"
      },
      "execution_count": 42,
      "outputs": [
        {
          "output_type": "stream",
          "name": "stdout",
          "text": [
            "Area of the rectangle: 50\n"
          ]
        }
      ]
    },
    {
      "cell_type": "code",
      "source": [
        "# 14. Create a class Employee with a method calculate_salary() that computes the salary based on hours worked and hourly rate. Create a derived class Manager that adds a bonus to the salary.\n",
        "\n",
        "class Employee:\n",
        "    def __init__(self, hours_worked, hourly_rate):\n",
        "        self.hours_worked = hours_worked\n",
        "        self.hourly_rate = hourly_rate\n",
        "\n",
        "    def calculate_salary(self):\n",
        "        return self.hours_worked * self.hourly_rate\n",
        "\n",
        "class Manager(Employee):\n",
        "    def __init__(self, hours_worked, hourly_rate, bonus):\n",
        "        super().__init__(hours_worked, hourly_rate)\n",
        "        self.bonus = bonus\n",
        "\n",
        "    def calculate_salary(self):\n",
        "        base_salary = super().calculate_salary()\n",
        "        return base_salary + self.bonus\n",
        "\n",
        "emp = Employee(40, 20)\n",
        "print(\"Employee Salary:\", emp.calculate_salary())\n",
        "\n",
        "mgr = Manager(40, 30, 500)\n",
        "print(\"Manager Salary:\", mgr.calculate_salary())\n"
      ],
      "metadata": {
        "colab": {
          "base_uri": "https://localhost:8080/"
        },
        "id": "jcNG78HYOsID",
        "outputId": "dcfc7136-0b50-483d-c0ae-7bb81161ccc6"
      },
      "execution_count": 44,
      "outputs": [
        {
          "output_type": "stream",
          "name": "stdout",
          "text": [
            "Employee Salary: 800\n",
            "Manager Salary: 1700\n"
          ]
        }
      ]
    },
    {
      "cell_type": "code",
      "source": [
        "# 15. Create a class Product with attributes name, price, and quantity. Implement a method total_price() that calculates the total price of the product.\n",
        "\n",
        "class Product:\n",
        "    def __init__(self, name, price, quantity):\n",
        "        self.name = name\n",
        "        self.price = price\n",
        "        self.quantity = quantity\n",
        "\n",
        "    def total_price(self):\n",
        "        return self.price * self.quantity\n",
        "\n",
        "product1 = Product(\"Notebook\", 50, 3)\n",
        "print(f\"Product: {product1.name}\")\n",
        "print(f\"Total Price: Rs {product1.total_price()}\")"
      ],
      "metadata": {
        "colab": {
          "base_uri": "https://localhost:8080/"
        },
        "id": "om6dJht9PGkB",
        "outputId": "00978d17-4011-4d47-da3e-780bc94fedcf"
      },
      "execution_count": 48,
      "outputs": [
        {
          "output_type": "stream",
          "name": "stdout",
          "text": [
            "Product: Notebook\n",
            "Total Price: Rs 150\n"
          ]
        }
      ]
    },
    {
      "cell_type": "code",
      "source": [
        "# 16. Create a class Animal with an abstract method sound(). Create two derived classes Cow and Sheep that implement the sound() method.\n",
        "\n",
        "from abc import ABC, abstractmethod\n",
        "\n",
        "class Animal(ABC):\n",
        "    @abstractmethod\n",
        "    def sound(self):\n",
        "        pass\n",
        "\n",
        "class Cow(Animal):\n",
        "    def sound(self):\n",
        "        return \"Moo\"\n",
        "\n",
        "class Sheep(Animal):\n",
        "    def sound(self):\n",
        "        return \"Baa\"\n",
        "\n",
        "cow = Cow()\n",
        "sheep = Sheep()\n",
        "\n",
        "print(\"Cow says:\", cow.sound())\n",
        "print(\"Sheep says:\", sheep.sound())"
      ],
      "metadata": {
        "colab": {
          "base_uri": "https://localhost:8080/"
        },
        "id": "loC8zjU5PW5_",
        "outputId": "0b8f9e63-8215-4269-c733-d093ab2ce02f"
      },
      "execution_count": 51,
      "outputs": [
        {
          "output_type": "stream",
          "name": "stdout",
          "text": [
            "Cow says: Moo\n",
            "Sheep says: Baa\n"
          ]
        }
      ]
    },
    {
      "cell_type": "code",
      "source": [
        "# 17. Create a class Book with attributes title, author, and year_published. Add a method get_book_info() that returns a formatted string with the book's details.\n",
        "\n",
        "class Book:\n",
        "    def __init__(self, title, author, year_published):\n",
        "        self.title = title\n",
        "        self.author = author\n",
        "        self.year_published = year_published\n",
        "\n",
        "    def get_book_info(self):\n",
        "        return f\"'{self.title}' by {self.author}, published in {self.year_published}.\"\n",
        "\n",
        "book1 = Book(\"Kill\", \"Sunil\", 1960)\n",
        "print(book1.get_book_info())"
      ],
      "metadata": {
        "colab": {
          "base_uri": "https://localhost:8080/"
        },
        "id": "7LxQNBI6QaeW",
        "outputId": "7c49171e-7194-4819-ca9f-1ba9c5b8465f"
      },
      "execution_count": 54,
      "outputs": [
        {
          "output_type": "stream",
          "name": "stdout",
          "text": [
            "'Kill' by Sunil, published in 1960.\n"
          ]
        }
      ]
    },
    {
      "cell_type": "code",
      "source": [
        "# 18. Create a class House with attributes address and price. Create a derived class Mansion that adds an attribute number_of_rooms.\n",
        "\n",
        "\n",
        "# Base class\n",
        "class House:\n",
        "    def __init__(self, address, price):\n",
        "        self.address = address\n",
        "        self.price = price\n",
        "\n",
        "    def get_info(self):\n",
        "        return f\"House located at {self.address}, priced at ${self.price}\"\n",
        "\n",
        "# Derived class\n",
        "class Mansion(House):\n",
        "    def __init__(self, address, price, number_of_rooms):\n",
        "        super().__init__(address, price)\n",
        "        self.number_of_rooms = number_of_rooms\n",
        "\n",
        "    def get_info(self):\n",
        "        return f\"Mansion located at {self.address}, priced at ${self.price}, with {self.number_of_rooms} rooms\"\n",
        "\n",
        "m = Mansion(\"123 Vanasthali Hills\", 5000000, 12)\n",
        "print(m.get_info())\n"
      ],
      "metadata": {
        "colab": {
          "base_uri": "https://localhost:8080/"
        },
        "id": "1TruyCTXQuPF",
        "outputId": "09cc27a2-98da-4fa3-893a-6cc2f7040225"
      },
      "execution_count": 57,
      "outputs": [
        {
          "output_type": "stream",
          "name": "stdout",
          "text": [
            "Mansion located at 123 Vanasthali Hills, priced at $5000000, with 12 rooms\n"
          ]
        }
      ]
    }
  ]
}